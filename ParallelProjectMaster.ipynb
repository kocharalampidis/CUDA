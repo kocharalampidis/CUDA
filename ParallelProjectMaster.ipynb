{
  "nbformat": 4,
  "nbformat_minor": 0,
  "metadata": {
    "colab": {
      "name": "ParallelProjectMaster.ipynb",
      "provenance": [],
      "collapsed_sections": []
    },
    "kernelspec": {
      "name": "python3",
      "display_name": "Python 3"
    },
    "accelerator": "GPU"
  },
  "cells": [
    {
      "cell_type": "code",
      "metadata": {
        "id": "kUUrOse1lHY-",
        "colab_type": "code",
        "outputId": "f529c157-f261-4224-f91b-8d777007246f",
        "colab": {
          "base_uri": "https://localhost:8080/",
          "height": 224
        }
      },
      "source": [
        "!pip install git+git://github.com/andreinechaev/nvcc4jupyter.git\n"
      ],
      "execution_count": 0,
      "outputs": [
        {
          "output_type": "stream",
          "text": [
            "Collecting git+git://github.com/andreinechaev/nvcc4jupyter.git\n",
            "  Cloning git://github.com/andreinechaev/nvcc4jupyter.git to /tmp/pip-req-build-9dxjk5g_\n",
            "  Running command git clone -q git://github.com/andreinechaev/nvcc4jupyter.git /tmp/pip-req-build-9dxjk5g_\n",
            "Building wheels for collected packages: NVCCPlugin\n",
            "  Building wheel for NVCCPlugin (setup.py) ... \u001b[?25l\u001b[?25hdone\n",
            "  Created wheel for NVCCPlugin: filename=NVCCPlugin-0.0.2-cp36-none-any.whl size=4307 sha256=e7d07c0f7d630551345ea8344229b4e59708b3ebbd41fd28a633e86fae223d2b\n",
            "  Stored in directory: /tmp/pip-ephem-wheel-cache-3l9l8_xh/wheels/10/c2/05/ca241da37bff77d60d31a9174f988109c61ba989e4d4650516\n",
            "Successfully built NVCCPlugin\n",
            "Installing collected packages: NVCCPlugin\n",
            "Successfully installed NVCCPlugin-0.0.2\n"
          ],
          "name": "stdout"
        }
      ]
    },
    {
      "cell_type": "code",
      "metadata": {
        "id": "6m63gZBNlNzK",
        "colab_type": "code",
        "outputId": "a6413902-52ca-41f4-b339-766fcd9a7417",
        "colab": {
          "base_uri": "https://localhost:8080/",
          "height": 54
        }
      },
      "source": [
        "%load_ext nvcc_plugin\n"
      ],
      "execution_count": 0,
      "outputs": [
        {
          "output_type": "stream",
          "text": [
            "The nvcc_plugin extension is already loaded. To reload it, use:\n",
            "  %reload_ext nvcc_plugin\n"
          ],
          "name": "stdout"
        }
      ]
    },
    {
      "cell_type": "code",
      "metadata": {
        "id": "RqUxbK6Xlr4W",
        "colab_type": "code",
        "colab": {}
      },
      "source": [
        "  # C(i, j = (A(i, j) − B(i, j)^3) \n",
        "  # print 3 tables"
      ],
      "execution_count": 0,
      "outputs": []
    },
    {
      "cell_type": "code",
      "metadata": {
        "id": "KYjaO5A0ji4E",
        "colab_type": "code",
        "outputId": "739bd5d5-6842-450d-f95f-c1afa4a43561",
        "colab": {
          "base_uri": "https://localhost:8080/",
          "height": 185
        }
      },
      "source": [
        "%%cu\n",
        "#include <iostream>\n",
        "#include <stdio.h>\n",
        "using namespace std;\n",
        "\n",
        "#define COLS 3\n",
        "#define ROWS 2\n",
        "\n",
        "__global__ void func(int *d_a, int *d_b, int *d_c){\n",
        " \n",
        " //index for each thread\n",
        " int indx = threadIdx.x + blockIdx.x * blockDim.x;\n",
        " \n",
        " //calculate -> C(i, j = (A(i, j) − B(i, j)^3) \n",
        " d_c[indx] = pow(d_a[indx] - d_b[indx], 3);\n",
        "\n",
        "}\n",
        "\n",
        "\n",
        "\n",
        "int main(void){\n",
        "    \n",
        " //device copies of a, b, c\n",
        " int *d_a, *d_b, *d_c;\n",
        " \n",
        " //size to allocate memory on device\n",
        " int size = COLS * ROWS * sizeof(int);\n",
        "\n",
        " //initialize 2d arrays: a, b, c, \n",
        " int a[][3] = { {10, 10, 10}, \n",
        "                {10, 10, 10} };\n",
        "\n",
        " int b[][3] = { {1, 2, 3}, \n",
        "                {4, 5, 6} };\n",
        "   \n",
        " int c[2][3] = { {0, 0, 0}, \n",
        "                {0, 0, 0} };\n",
        " \n",
        " //Allocate memory for device's copies\n",
        " cudaMalloc((void** )&d_a, size); \n",
        " cudaMalloc((void** )&d_b, size);\n",
        " cudaMalloc((void** )&d_c, size);\n",
        "\n",
        " //Copy  a, b from host to device\n",
        " cudaMemcpy(d_a, a, size, cudaMemcpyHostToDevice);\n",
        " cudaMemcpy(d_b, b, size, cudaMemcpyHostToDevice);\n",
        "\n",
        " //Setup the execution configuration\n",
        " dim3 dimBlock(2, 1);\n",
        " dim3 threadsPerBlock(6, 1);\n",
        "\n",
        " //Launch function on device\n",
        " func <<< dimBlock, threadsPerBlock >>>(d_a, d_b, d_c);\n",
        "\n",
        " //Copy c from device to host\n",
        " cudaMemcpy(c, d_c, size, cudaMemcpyDeviceToHost);\n",
        " \n",
        " //free, allocated space\n",
        " cudaFree(d_a);\n",
        " cudaFree(d_b);\n",
        " cudaFree(d_c);\n",
        " \n",
        " //display results\n",
        " printf(\"  C(i, j = (A(i, j) − B(i, j)^3) \\n\\n\");\n",
        " for(int i = 0; i < ROWS; ++i){\n",
        "     \n",
        "     for(int j = 0; j < COLS; ++j){\n",
        "         \n",
        "         \n",
        "         printf(\"[%d][%d] \\t\",i, j);\n",
        "         printf(\"c: %d = (a: %d - b: %d)^3  \\n\", c[i][j], a[i][j], b[i][j] );\n",
        "         \n",
        "         }\n",
        " } \n",
        "\n",
        " return 0;\n",
        "}"
      ],
      "execution_count": 0,
      "outputs": [
        {
          "output_type": "stream",
          "text": [
            "  C(i, j = (A(i, j) − B(i, j)^3) \n",
            "\n",
            "[0][0] \tc: 729 = (a: 10 - b: 1)^3  \n",
            "[0][1] \tc: 512 = (a: 10 - b: 2)^3  \n",
            "[0][2] \tc: 343 = (a: 10 - b: 3)^3  \n",
            "[1][0] \tc: 216 = (a: 10 - b: 4)^3  \n",
            "[1][1] \tc: 125 = (a: 10 - b: 5)^3  \n",
            "[1][2] \tc: 64 = (a: 10 - b: 6)^3  \n",
            "\n"
          ],
          "name": "stdout"
        }
      ]
    }
  ]
}